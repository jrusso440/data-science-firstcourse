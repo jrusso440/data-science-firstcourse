{
  "nbformat": 4,
  "nbformat_minor": 0,
  "metadata": {
    "colab": {
      "provenance": [],
      "mount_file_id": "1Sz1teiT6IOX6TbCkDbHOUJtAjDU7BL14",
      "authorship_tag": "ABX9TyP1yKDKz75f6md+XKfpOY9R",
      "include_colab_link": true
    },
    "kernelspec": {
      "name": "python3",
      "display_name": "Python 3"
    },
    "language_info": {
      "name": "python"
    }
  },
  "cells": [
    {
      "cell_type": "markdown",
      "metadata": {
        "id": "view-in-github",
        "colab_type": "text"
      },
      "source": [
        "<a href=\"https://colab.research.google.com/github/jrusso440/data-science-wineknn/blob/main/WineKnn1.ipynb\" target=\"_parent\"><img src=\"https://colab.research.google.com/assets/colab-badge.svg\" alt=\"Open In Colab\"/></a>"
      ]
    },
    {
      "cell_type": "code",
      "execution_count": null,
      "metadata": {
        "id": "we-LhlRTFl7c"
      },
      "outputs": [],
      "source": [
        "import numpy as np\n",
        "import pandas as pd\n",
        "import matplotlib.pyplot as plt\n",
        "from sklearn.neighbors import KNeighborsClassifier\n",
        "from sklearn.model_selection import train_test_split\n"
      ]
    },
    {
      "cell_type": "code",
      "source": [
        "df=pd.read_csv(\"wine.csv\")"
      ],
      "metadata": {
        "id": "NweF94pHG6DT"
      },
      "execution_count": null,
      "outputs": []
    },
    {
      "cell_type": "markdown",
      "source": [
        "Mark about 70% of data for training and use the rest for testing</br>\n",
        "We will use density, sulfates and residual_sugar features</br>\n",
        "For training classsifier on high quality</br>\n"
      ],
      "metadata": {
        "id": "F2zVL_zDIQXi"
      }
    },
    {
      "cell_type": "code",
      "source": [
        "X_train,X_test,y_train,y_test=train_test_split(df[['density','sulfates','residual_sugar']],df['high_quality'],test_size=.3)\n",
        "classifier=KNeighborsClassifier(n_neighbors = 3)\n",
        "classifier.fit(X_train,y_train)"
      ],
      "metadata": {
        "colab": {
          "base_uri": "https://localhost:8080/",
          "height": 74
        },
        "id": "CfFaDBJhIlIy",
        "outputId": "e3ab60b0-3015-408f-d009-cdfec75decb8"
      },
      "execution_count": null,
      "outputs": [
        {
          "output_type": "execute_result",
          "data": {
            "text/plain": [
              "KNeighborsClassifier(n_neighbors=3)"
            ],
            "text/html": [
              "<style>#sk-container-id-2 {color: black;background-color: white;}#sk-container-id-2 pre{padding: 0;}#sk-container-id-2 div.sk-toggleable {background-color: white;}#sk-container-id-2 label.sk-toggleable__label {cursor: pointer;display: block;width: 100%;margin-bottom: 0;padding: 0.3em;box-sizing: border-box;text-align: center;}#sk-container-id-2 label.sk-toggleable__label-arrow:before {content: \"▸\";float: left;margin-right: 0.25em;color: #696969;}#sk-container-id-2 label.sk-toggleable__label-arrow:hover:before {color: black;}#sk-container-id-2 div.sk-estimator:hover label.sk-toggleable__label-arrow:before {color: black;}#sk-container-id-2 div.sk-toggleable__content {max-height: 0;max-width: 0;overflow: hidden;text-align: left;background-color: #f0f8ff;}#sk-container-id-2 div.sk-toggleable__content pre {margin: 0.2em;color: black;border-radius: 0.25em;background-color: #f0f8ff;}#sk-container-id-2 input.sk-toggleable__control:checked~div.sk-toggleable__content {max-height: 200px;max-width: 100%;overflow: auto;}#sk-container-id-2 input.sk-toggleable__control:checked~label.sk-toggleable__label-arrow:before {content: \"▾\";}#sk-container-id-2 div.sk-estimator input.sk-toggleable__control:checked~label.sk-toggleable__label {background-color: #d4ebff;}#sk-container-id-2 div.sk-label input.sk-toggleable__control:checked~label.sk-toggleable__label {background-color: #d4ebff;}#sk-container-id-2 input.sk-hidden--visually {border: 0;clip: rect(1px 1px 1px 1px);clip: rect(1px, 1px, 1px, 1px);height: 1px;margin: -1px;overflow: hidden;padding: 0;position: absolute;width: 1px;}#sk-container-id-2 div.sk-estimator {font-family: monospace;background-color: #f0f8ff;border: 1px dotted black;border-radius: 0.25em;box-sizing: border-box;margin-bottom: 0.5em;}#sk-container-id-2 div.sk-estimator:hover {background-color: #d4ebff;}#sk-container-id-2 div.sk-parallel-item::after {content: \"\";width: 100%;border-bottom: 1px solid gray;flex-grow: 1;}#sk-container-id-2 div.sk-label:hover label.sk-toggleable__label {background-color: #d4ebff;}#sk-container-id-2 div.sk-serial::before {content: \"\";position: absolute;border-left: 1px solid gray;box-sizing: border-box;top: 0;bottom: 0;left: 50%;z-index: 0;}#sk-container-id-2 div.sk-serial {display: flex;flex-direction: column;align-items: center;background-color: white;padding-right: 0.2em;padding-left: 0.2em;position: relative;}#sk-container-id-2 div.sk-item {position: relative;z-index: 1;}#sk-container-id-2 div.sk-parallel {display: flex;align-items: stretch;justify-content: center;background-color: white;position: relative;}#sk-container-id-2 div.sk-item::before, #sk-container-id-2 div.sk-parallel-item::before {content: \"\";position: absolute;border-left: 1px solid gray;box-sizing: border-box;top: 0;bottom: 0;left: 50%;z-index: -1;}#sk-container-id-2 div.sk-parallel-item {display: flex;flex-direction: column;z-index: 1;position: relative;background-color: white;}#sk-container-id-2 div.sk-parallel-item:first-child::after {align-self: flex-end;width: 50%;}#sk-container-id-2 div.sk-parallel-item:last-child::after {align-self: flex-start;width: 50%;}#sk-container-id-2 div.sk-parallel-item:only-child::after {width: 0;}#sk-container-id-2 div.sk-dashed-wrapped {border: 1px dashed gray;margin: 0 0.4em 0.5em 0.4em;box-sizing: border-box;padding-bottom: 0.4em;background-color: white;}#sk-container-id-2 div.sk-label label {font-family: monospace;font-weight: bold;display: inline-block;line-height: 1.2em;}#sk-container-id-2 div.sk-label-container {text-align: center;}#sk-container-id-2 div.sk-container {/* jupyter's `normalize.less` sets `[hidden] { display: none; }` but bootstrap.min.css set `[hidden] { display: none !important; }` so we also need the `!important` here to be able to override the default hidden behavior on the sphinx rendered scikit-learn.org. See: https://github.com/scikit-learn/scikit-learn/issues/21755 */display: inline-block !important;position: relative;}#sk-container-id-2 div.sk-text-repr-fallback {display: none;}</style><div id=\"sk-container-id-2\" class=\"sk-top-container\"><div class=\"sk-text-repr-fallback\"><pre>KNeighborsClassifier(n_neighbors=3)</pre><b>In a Jupyter environment, please rerun this cell to show the HTML representation or trust the notebook. <br />On GitHub, the HTML representation is unable to render, please try loading this page with nbviewer.org.</b></div><div class=\"sk-container\" hidden><div class=\"sk-item\"><div class=\"sk-estimator sk-toggleable\"><input class=\"sk-toggleable__control sk-hidden--visually\" id=\"sk-estimator-id-2\" type=\"checkbox\" checked><label for=\"sk-estimator-id-2\" class=\"sk-toggleable__label sk-toggleable__label-arrow\">KNeighborsClassifier</label><div class=\"sk-toggleable__content\"><pre>KNeighborsClassifier(n_neighbors=3)</pre></div></div></div></div></div>"
            ]
          },
          "metadata": {},
          "execution_count": 15
        }
      ]
    },
    {
      "cell_type": "markdown",
      "source": [
        "Test the classifier by giving it test instances\n"
      ],
      "metadata": {
        "id": "XLJM0hciJgsb"
      }
    },
    {
      "cell_type": "code",
      "source": [
        "prediction=classifier.predict(X_test)"
      ],
      "metadata": {
        "id": "GN0L2wHnG-wi"
      },
      "execution_count": null,
      "outputs": []
    },
    {
      "cell_type": "markdown",
      "source": [
        "### Count how many were correctly classified"
      ],
      "metadata": {
        "id": "tv9St-qYKGnK"
      }
    },
    {
      "cell_type": "code",
      "source": [
        "correct=np.where(prediction==y_test,1,0).sum()\n",
        "print (correct)"
      ],
      "metadata": {
        "colab": {
          "base_uri": "https://localhost:8080/"
        },
        "id": "csa4cFNBKnci",
        "outputId": "663bdb6a-41c9-4977-e758-a0cdd17e5f67"
      },
      "execution_count": null,
      "outputs": [
        {
          "output_type": "stream",
          "name": "stdout",
          "text": [
            "1495\n"
          ]
        }
      ]
    },
    {
      "cell_type": "markdown",
      "source": [
        "# Calculate the accuracy of this classifier"
      ],
      "metadata": {
        "id": "Uv2mqJ4xLEib"
      }
    },
    {
      "cell_type": "code",
      "source": [
        "accuracy = correct/len(y_test)\n",
        "print(accuracy)"
      ],
      "metadata": {
        "colab": {
          "base_uri": "https://localhost:8080/"
        },
        "id": "eFSRW8R2LC5L",
        "outputId": "fe03b24d-e2ac-4105-a92a-76c01307fdef"
      },
      "execution_count": null,
      "outputs": [
        {
          "output_type": "stream",
          "name": "stdout",
          "text": [
            "0.7666666666666667\n"
          ]
        }
      ]
    },
    {
      "cell_type": "markdown",
      "source": [
        "#  used k=3 (3 nearest neightbors) Around 76%\n",
        "\n",
        "\n",
        "accuracy. Let's try this with different values of k\n"
      ],
      "metadata": {
        "id": "gNLHXfteL8TD"
      }
    },
    {
      "cell_type": "markdown",
      "source": [
        "###Start with an array where the results (k and accuracy will be stored"
      ],
      "metadata": {
        "id": "dWgme9NTMDoy"
      }
    },
    {
      "cell_type": "code",
      "source": [
        "results=[]\n",
        "for k in range(1,51,2):\n",
        "  classifier = KNeighborsClassifier(n_neighbors = k)\n",
        "  classifier.fit(X_train,y_train)\n",
        "  prediction = classifier.predict(X_test)\n",
        "  accuracy = np.where(prediction==y_test,1,0).sum()/(len(y_test))\n",
        "  print(\"k=\",k,\"Accuracy=\",accuracy)\n",
        "  results.append([k,accuracy]) #storing the k and accuracy in array\n"
      ],
      "metadata": {
        "colab": {
          "base_uri": "https://localhost:8080/"
        },
        "id": "UoHWqU2BMAtq",
        "outputId": "2bfb9f9c-ac94-41bb-8ef7-f597b3bd936c"
      },
      "execution_count": null,
      "outputs": [
        {
          "output_type": "stream",
          "name": "stdout",
          "text": [
            "k= 1 Accuracy= 0.7841025641025641\n",
            "k= 3 Accuracy= 0.7666666666666667\n",
            "k= 5 Accuracy= 0.7846153846153846\n",
            "k= 7 Accuracy= 0.7902564102564102\n",
            "k= 9 Accuracy= 0.8087179487179487\n",
            "k= 11 Accuracy= 0.8097435897435897\n",
            "k= 13 Accuracy= 0.8087179487179487\n",
            "k= 15 Accuracy= 0.8087179487179487\n",
            "k= 17 Accuracy= 0.8097435897435897\n",
            "k= 19 Accuracy= 0.8097435897435897\n",
            "k= 21 Accuracy= 0.8082051282051282\n",
            "k= 23 Accuracy= 0.8097435897435897\n",
            "k= 25 Accuracy= 0.8117948717948718\n",
            "k= 27 Accuracy= 0.8138461538461539\n",
            "k= 29 Accuracy= 0.8138461538461539\n",
            "k= 31 Accuracy= 0.8143589743589743\n",
            "k= 33 Accuracy= 0.8117948717948718\n",
            "k= 35 Accuracy= 0.8123076923076923\n",
            "k= 37 Accuracy= 0.8133333333333334\n",
            "k= 39 Accuracy= 0.8138461538461539\n",
            "k= 41 Accuracy= 0.8138461538461539\n",
            "k= 43 Accuracy= 0.8133333333333334\n",
            "k= 45 Accuracy= 0.8128205128205128\n",
            "k= 47 Accuracy= 0.8128205128205128\n",
            "k= 49 Accuracy= 0.8128205128205128\n"
          ]
        }
      ]
    },
    {
      "cell_type": "markdown",
      "source": [
        "##convert the tuples into dataframe for easier plotting"
      ],
      "metadata": {
        "id": "bHF534_rNRXK"
      }
    },
    {
      "cell_type": "code",
      "source": [
        "results=pd.DataFrame(results,columns=[\"k\",\"accuracy\"])\n",
        "plt.plot(results.k, results.accuracy)\n",
        "plt.title(\"Value of k and corresponding classification accuracy\")\n",
        "plt.show()"
      ],
      "metadata": {
        "colab": {
          "base_uri": "https://localhost:8080/",
          "height": 452
        },
        "id": "uiVE8CruNOGi",
        "outputId": "80f4d074-e114-40bd-c003-6b272a27d054"
      },
      "execution_count": null,
      "outputs": [
        {
          "output_type": "display_data",
          "data": {
            "text/plain": [
              "<Figure size 640x480 with 1 Axes>"
            ],
            "image/png": "[encoded data removed]"
          },
          "metadata": {}
        }
      ]
    },
    {
      "cell_type": "markdown",
      "source": [
        "# Homework"
      ],
      "metadata": {
        "id": "iyOx2c5YOIg6"
      }
    },
    {
      "cell_type": "markdown",
      "source": [
        "##The wheat dataset in UCIs repository comprises kernals belonging to three different varieties of wheat: Kama, Rosa and Canadian.  For each wheat variety, with a random sample of 70 elements, high quality visualizations of the internal structure of the kernal structure was made using a soft x-ray technique.  Seven geometric parameters of wheat kernels were measured.  Use these measures to classify the wheat variety.\n",
        "The dataset is found here: https://drive.google.com/file/d/1C51uY13GqhhX-S6weM_yUewaBB3nGXK7/view?usp=sharing\n"
      ],
      "metadata": {
        "id": "xw3oFV1QOMPR"
      }
    },
    {
      "cell_type": "markdown",
      "source": [
        "Steps to complete Homework\n",
        "1. load all packages you need (see above)\n",
        "2. load the dataset into a dataframe\n",
        "3. split the data into 70% training and 30% testing (see above)\n",
        "4. classify using k =?\n",
        "5. fit\n",
        "6. predict\n",
        "7. compute and display accuracy"
      ],
      "metadata": {
        "id": "XNgO7OqYX4Ko"
      }
    }
  ]
}